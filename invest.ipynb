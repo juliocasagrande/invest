{
 "cells": [
  {
   "cell_type": "code",
   "execution_count": 2,
   "metadata": {},
   "outputs": [
    {
     "name": "stdout",
     "output_type": "stream",
     "text": [
      "Analisando LOGN3.SA no mercado Brasil...\n"
     ]
    },
    {
     "name": "stderr",
     "output_type": "stream",
     "text": [
      "[*********************100%%**********************]  1 of 1 completed\n"
     ]
    },
    {
     "name": "stdout",
     "output_type": "stream",
     "text": [
      "Analisando RAIL3.SA no mercado Brasil...\n"
     ]
    },
    {
     "name": "stderr",
     "output_type": "stream",
     "text": [
      "[*********************100%%**********************]  1 of 1 completed\n"
     ]
    },
    {
     "name": "stdout",
     "output_type": "stream",
     "text": [
      "Analisando PTBL3.SA no mercado Brasil...\n"
     ]
    },
    {
     "name": "stderr",
     "output_type": "stream",
     "text": [
      "[*********************100%%**********************]  1 of 1 completed\n"
     ]
    },
    {
     "name": "stdout",
     "output_type": "stream",
     "text": [
      "Analisando ALPK3.SA no mercado Brasil...\n"
     ]
    },
    {
     "name": "stderr",
     "output_type": "stream",
     "text": [
      "[*********************100%%**********************]  1 of 1 completed\n"
     ]
    },
    {
     "name": "stdout",
     "output_type": "stream",
     "text": [
      "Analisando ANIM3.SA no mercado Brasil...\n"
     ]
    },
    {
     "name": "stderr",
     "output_type": "stream",
     "text": [
      "[*********************100%%**********************]  1 of 1 completed\n"
     ]
    },
    {
     "name": "stdout",
     "output_type": "stream",
     "text": [
      "Analisando AURA33.SA no mercado Brasil...\n"
     ]
    },
    {
     "name": "stderr",
     "output_type": "stream",
     "text": [
      "[*********************100%%**********************]  1 of 1 completed\n"
     ]
    },
    {
     "name": "stdout",
     "output_type": "stream",
     "text": [
      "Analisando AESB3.SA no mercado Brasil...\n"
     ]
    },
    {
     "name": "stderr",
     "output_type": "stream",
     "text": [
      "[*********************100%%**********************]  1 of 1 completed\n"
     ]
    },
    {
     "name": "stdout",
     "output_type": "stream",
     "text": [
      "Analisando SIMH3.SA no mercado Brasil...\n"
     ]
    },
    {
     "name": "stderr",
     "output_type": "stream",
     "text": [
      "[*********************100%%**********************]  1 of 1 completed\n"
     ]
    },
    {
     "name": "stdout",
     "output_type": "stream",
     "text": [
      "Analisando ZAMP3.SA no mercado Brasil...\n"
     ]
    },
    {
     "name": "stderr",
     "output_type": "stream",
     "text": [
      "[*********************100%%**********************]  1 of 1 completed\n"
     ]
    },
    {
     "name": "stdout",
     "output_type": "stream",
     "text": [
      "Analisando CSNA3.SA no mercado Brasil...\n"
     ]
    },
    {
     "name": "stderr",
     "output_type": "stream",
     "text": [
      "[*********************100%%**********************]  1 of 1 completed\n"
     ]
    },
    {
     "name": "stdout",
     "output_type": "stream",
     "text": [
      "Analisando CVCB3.SA no mercado Brasil...\n"
     ]
    },
    {
     "name": "stderr",
     "output_type": "stream",
     "text": [
      "[*********************100%%**********************]  1 of 1 completed\n"
     ]
    },
    {
     "name": "stdout",
     "output_type": "stream",
     "text": [
      "Analisando VVEO3.SA no mercado Brasil...\n"
     ]
    },
    {
     "name": "stderr",
     "output_type": "stream",
     "text": [
      "[*********************100%%**********************]  1 of 1 completed\n"
     ]
    },
    {
     "name": "stdout",
     "output_type": "stream",
     "text": [
      "Analisando QUAL3.SA no mercado Brasil...\n"
     ]
    },
    {
     "name": "stderr",
     "output_type": "stream",
     "text": [
      "[*********************100%%**********************]  1 of 1 completed\n"
     ]
    },
    {
     "name": "stdout",
     "output_type": "stream",
     "text": [
      "Analisando LIGT3.SA no mercado Brasil...\n"
     ]
    },
    {
     "name": "stderr",
     "output_type": "stream",
     "text": [
      "[*********************100%%**********************]  1 of 1 completed\n"
     ]
    },
    {
     "name": "stdout",
     "output_type": "stream",
     "text": [
      "Analisando COGN3.SA no mercado Brasil...\n"
     ]
    },
    {
     "name": "stderr",
     "output_type": "stream",
     "text": [
      "[*********************100%%**********************]  1 of 1 completed\n"
     ]
    },
    {
     "name": "stdout",
     "output_type": "stream",
     "text": [
      "Analisando MOVI3.SA no mercado Brasil...\n"
     ]
    },
    {
     "name": "stderr",
     "output_type": "stream",
     "text": [
      "[*********************100%%**********************]  1 of 1 completed\n"
     ]
    },
    {
     "name": "stdout",
     "output_type": "stream",
     "text": [
      "Analisando CBAV3.SA no mercado Brasil...\n"
     ]
    },
    {
     "name": "stderr",
     "output_type": "stream",
     "text": [
      "[*********************100%%**********************]  1 of 1 completed\n"
     ]
    },
    {
     "name": "stdout",
     "output_type": "stream",
     "text": [
      "Analisando MATD3.SA no mercado Brasil...\n"
     ]
    },
    {
     "name": "stderr",
     "output_type": "stream",
     "text": [
      "[*********************100%%**********************]  1 of 1 completed\n"
     ]
    },
    {
     "name": "stdout",
     "output_type": "stream",
     "text": [
      "Analisando ALPA4.SA no mercado Brasil...\n"
     ]
    },
    {
     "name": "stderr",
     "output_type": "stream",
     "text": [
      "[*********************100%%**********************]  1 of 1 completed\n"
     ]
    },
    {
     "name": "stdout",
     "output_type": "stream",
     "text": [
      "Analisando AERI3.SA no mercado Brasil...\n"
     ]
    },
    {
     "name": "stderr",
     "output_type": "stream",
     "text": [
      "[*********************100%%**********************]  1 of 1 completed\n"
     ]
    },
    {
     "name": "stdout",
     "output_type": "stream",
     "text": [
      "Analisando DASA3.SA no mercado Brasil...\n"
     ]
    },
    {
     "name": "stderr",
     "output_type": "stream",
     "text": [
      "[*********************100%%**********************]  1 of 1 completed\n"
     ]
    },
    {
     "name": "stdout",
     "output_type": "stream",
     "text": [
      "Analisando NTCO3.SA no mercado Brasil...\n"
     ]
    },
    {
     "name": "stderr",
     "output_type": "stream",
     "text": [
      "[*********************100%%**********************]  1 of 1 completed\n"
     ]
    },
    {
     "name": "stdout",
     "output_type": "stream",
     "text": [
      "Analisando BRKM5.SA no mercado Brasil...\n"
     ]
    },
    {
     "name": "stderr",
     "output_type": "stream",
     "text": [
      "[*********************100%%**********************]  1 of 1 completed\n"
     ]
    },
    {
     "name": "stdout",
     "output_type": "stream",
     "text": [
      "Analisando PCAR3.SA no mercado Brasil...\n"
     ]
    },
    {
     "name": "stderr",
     "output_type": "stream",
     "text": [
      "[*********************100%%**********************]  1 of 1 completed\n"
     ]
    },
    {
     "name": "stdout",
     "output_type": "stream",
     "text": [
      "Analisando AZUL4.SA no mercado Brasil...\n"
     ]
    },
    {
     "name": "stderr",
     "output_type": "stream",
     "text": [
      "[*********************100%%**********************]  1 of 1 completed\n"
     ]
    },
    {
     "name": "stdout",
     "output_type": "stream",
     "text": [
      "Analisando GOLL4.SA no mercado Brasil...\n"
     ]
    },
    {
     "name": "stderr",
     "output_type": "stream",
     "text": [
      "[*********************100%%**********************]  1 of 1 completed\n"
     ]
    },
    {
     "name": "stdout",
     "output_type": "stream",
     "text": [
      "Analisando BHIA3.SA no mercado Brasil...\n"
     ]
    },
    {
     "name": "stderr",
     "output_type": "stream",
     "text": [
      "[*********************100%%**********************]  1 of 1 completed\n"
     ]
    },
    {
     "name": "stdout",
     "output_type": "stream",
     "text": [
      "Analisando SYNE3.SA no mercado Brasil...\n"
     ]
    },
    {
     "name": "stderr",
     "output_type": "stream",
     "text": [
      "[*********************100%%**********************]  1 of 1 completed\n"
     ]
    },
    {
     "name": "stdout",
     "output_type": "stream",
     "text": [
      "Analisando VBBR3.SA no mercado Brasil...\n"
     ]
    },
    {
     "name": "stderr",
     "output_type": "stream",
     "text": [
      "[*********************100%%**********************]  1 of 1 completed\n"
     ]
    },
    {
     "name": "stdout",
     "output_type": "stream",
     "text": [
      "Analisando ETER3.SA no mercado Brasil...\n"
     ]
    },
    {
     "name": "stderr",
     "output_type": "stream",
     "text": [
      "[*********************100%%**********************]  1 of 1 completed\n"
     ]
    },
    {
     "name": "stdout",
     "output_type": "stream",
     "text": [
      "Analisando POSI3.SA no mercado Brasil...\n"
     ]
    },
    {
     "name": "stderr",
     "output_type": "stream",
     "text": [
      "[*********************100%%**********************]  1 of 1 completed\n"
     ]
    },
    {
     "name": "stdout",
     "output_type": "stream",
     "text": [
      "Analisando EUCA4.SA no mercado Brasil...\n"
     ]
    },
    {
     "name": "stderr",
     "output_type": "stream",
     "text": [
      "[*********************100%%**********************]  1 of 1 completed\n"
     ]
    },
    {
     "name": "stdout",
     "output_type": "stream",
     "text": [
      "Analisando TPIS3.SA no mercado Brasil...\n"
     ]
    },
    {
     "name": "stderr",
     "output_type": "stream",
     "text": [
      "[*********************100%%**********************]  1 of 1 completed\n"
     ]
    },
    {
     "name": "stdout",
     "output_type": "stream",
     "text": [
      "Analisando BRAP3.SA no mercado Brasil...\n"
     ]
    },
    {
     "name": "stderr",
     "output_type": "stream",
     "text": [
      "[*********************100%%**********************]  1 of 1 completed\n"
     ]
    },
    {
     "name": "stdout",
     "output_type": "stream",
     "text": [
      "Analisando BRAP4.SA no mercado Brasil...\n"
     ]
    },
    {
     "name": "stderr",
     "output_type": "stream",
     "text": [
      "[*********************100%%**********************]  1 of 1 completed\n"
     ]
    },
    {
     "name": "stdout",
     "output_type": "stream",
     "text": [
      "Analisando PINE4.SA no mercado Brasil...\n"
     ]
    },
    {
     "name": "stderr",
     "output_type": "stream",
     "text": [
      "[*********************100%%**********************]  1 of 1 completed\n"
     ]
    },
    {
     "name": "stdout",
     "output_type": "stream",
     "text": [
      "Analisando BBAS3.SA no mercado Brasil...\n"
     ]
    },
    {
     "name": "stderr",
     "output_type": "stream",
     "text": [
      "[*********************100%%**********************]  1 of 1 completed\n"
     ]
    },
    {
     "name": "stdout",
     "output_type": "stream",
     "text": [
      "Analisando CMIG4.SA no mercado Brasil...\n"
     ]
    },
    {
     "name": "stderr",
     "output_type": "stream",
     "text": [
      "[*********************100%%**********************]  1 of 1 completed\n"
     ]
    },
    {
     "name": "stdout",
     "output_type": "stream",
     "text": [
      "Analisando HBOR3.SA no mercado Brasil...\n"
     ]
    },
    {
     "name": "stderr",
     "output_type": "stream",
     "text": [
      "[*********************100%%**********************]  1 of 1 completed\n"
     ]
    },
    {
     "name": "stdout",
     "output_type": "stream",
     "text": [
      "Analisando HBRE3.SA no mercado Brasil...\n"
     ]
    },
    {
     "name": "stderr",
     "output_type": "stream",
     "text": [
      "[*********************100%%**********************]  1 of 1 completed\n"
     ]
    },
    {
     "name": "stdout",
     "output_type": "stream",
     "text": [
      "Analisando BRSR6.SA no mercado Brasil...\n"
     ]
    },
    {
     "name": "stderr",
     "output_type": "stream",
     "text": [
      "[*********************100%%**********************]  1 of 1 completed\n"
     ]
    },
    {
     "name": "stdout",
     "output_type": "stream",
     "text": [
      "Analisando TRPL4.SA no mercado Brasil...\n"
     ]
    },
    {
     "name": "stderr",
     "output_type": "stream",
     "text": [
      "[*********************100%%**********************]  1 of 1 completed\n"
     ]
    },
    {
     "name": "stdout",
     "output_type": "stream",
     "text": [
      "Analisando JHSF3.SA no mercado Brasil...\n"
     ]
    },
    {
     "name": "stderr",
     "output_type": "stream",
     "text": [
      "[*********************100%%**********************]  1 of 1 completed\n"
     ]
    },
    {
     "name": "stdout",
     "output_type": "stream",
     "text": [
      "Analisando SAPR3.SA no mercado Brasil...\n"
     ]
    },
    {
     "name": "stderr",
     "output_type": "stream",
     "text": [
      "[*********************100%%**********************]  1 of 1 completed\n"
     ]
    },
    {
     "name": "stdout",
     "output_type": "stream",
     "text": [
      "Analisando BMGB4.SA no mercado Brasil...\n"
     ]
    },
    {
     "name": "stderr",
     "output_type": "stream",
     "text": [
      "[*********************100%%**********************]  1 of 1 completed\n"
     ]
    },
    {
     "name": "stdout",
     "output_type": "stream",
     "text": [
      "Analisando SAPR4.SA no mercado Brasil...\n"
     ]
    },
    {
     "name": "stderr",
     "output_type": "stream",
     "text": [
      "[*********************100%%**********************]  1 of 1 completed\n"
     ]
    },
    {
     "name": "stdout",
     "output_type": "stream",
     "text": [
      "Analisando WIZC3.SA no mercado Brasil...\n"
     ]
    },
    {
     "name": "stderr",
     "output_type": "stream",
     "text": [
      "[*********************100%%**********************]  1 of 1 completed\n"
     ]
    },
    {
     "name": "stdout",
     "output_type": "stream",
     "text": [
      "Analisando ALLD3.SA no mercado Brasil...\n"
     ]
    },
    {
     "name": "stderr",
     "output_type": "stream",
     "text": [
      "[*********************100%%**********************]  1 of 1 completed\n"
     ]
    },
    {
     "name": "stdout",
     "output_type": "stream",
     "text": [
      "Analisando SAPR11.SA no mercado Brasil...\n"
     ]
    },
    {
     "name": "stderr",
     "output_type": "stream",
     "text": [
      "[*********************100%%**********************]  1 of 1 completed\n"
     ]
    },
    {
     "name": "stdout",
     "output_type": "stream",
     "text": [
      "Analisando TECN3.SA no mercado Brasil...\n"
     ]
    },
    {
     "name": "stderr",
     "output_type": "stream",
     "text": [
      "[*********************100%%**********************]  1 of 1 completed\n"
     ]
    },
    {
     "name": "stdout",
     "output_type": "stream",
     "text": [
      "Analisando ABCB4.SA no mercado Brasil...\n"
     ]
    },
    {
     "name": "stderr",
     "output_type": "stream",
     "text": [
      "[*********************100%%**********************]  1 of 1 completed\n"
     ]
    },
    {
     "name": "stdout",
     "output_type": "stream",
     "text": [
      "Analisando MDNE3.SA no mercado Brasil...\n"
     ]
    },
    {
     "name": "stderr",
     "output_type": "stream",
     "text": [
      "[*********************100%%**********************]  1 of 1 completed\n"
     ]
    },
    {
     "name": "stdout",
     "output_type": "stream",
     "text": [
      "Analisando CMIG3.SA no mercado Brasil...\n"
     ]
    },
    {
     "name": "stderr",
     "output_type": "stream",
     "text": [
      "[*********************100%%**********************]  1 of 1 completed\n"
     ]
    },
    {
     "name": "stdout",
     "output_type": "stream",
     "text": [
      "Analisando ECOR3.SA no mercado Brasil...\n"
     ]
    },
    {
     "name": "stderr",
     "output_type": "stream",
     "text": [
      "[*********************100%%**********************]  1 of 1 completed\n"
     ]
    },
    {
     "name": "stdout",
     "output_type": "stream",
     "text": [
      "Analisando VALE3.SA no mercado Brasil...\n"
     ]
    },
    {
     "name": "stderr",
     "output_type": "stream",
     "text": [
      "[*********************100%%**********************]  1 of 1 completed\n"
     ]
    },
    {
     "name": "stdout",
     "output_type": "stream",
     "text": [
      "Analisando DEXP3.SA no mercado Brasil...\n"
     ]
    },
    {
     "name": "stderr",
     "output_type": "stream",
     "text": [
      "[*********************100%%**********************]  1 of 1 completed\n"
     ]
    },
    {
     "name": "stdout",
     "output_type": "stream",
     "text": [
      "Analisando LAVV3.SA no mercado Brasil...\n"
     ]
    },
    {
     "name": "stderr",
     "output_type": "stream",
     "text": [
      "[*********************100%%**********************]  1 of 1 completed\n"
     ]
    },
    {
     "name": "stdout",
     "output_type": "stream",
     "text": [
      "Analisando VLID3.SA no mercado Brasil...\n"
     ]
    },
    {
     "name": "stderr",
     "output_type": "stream",
     "text": [
      "[*********************100%%**********************]  1 of 1 completed\n"
     ]
    },
    {
     "name": "stdout",
     "output_type": "stream",
     "text": [
      "Analisando PETR4.SA no mercado Brasil...\n"
     ]
    },
    {
     "name": "stderr",
     "output_type": "stream",
     "text": [
      "[*********************100%%**********************]  1 of 1 completed\n"
     ]
    },
    {
     "name": "stdout",
     "output_type": "stream",
     "text": [
      "Analisando CAML3.SA no mercado Brasil...\n"
     ]
    },
    {
     "name": "stderr",
     "output_type": "stream",
     "text": [
      "[*********************100%%**********************]  1 of 1 completed\n"
     ]
    },
    {
     "name": "stdout",
     "output_type": "stream",
     "text": [
      "Analisando BMEB4.SA no mercado Brasil...\n"
     ]
    },
    {
     "name": "stderr",
     "output_type": "stream",
     "text": [
      "[*********************100%%**********************]  1 of 1 completed\n"
     ]
    },
    {
     "name": "stdout",
     "output_type": "stream",
     "text": [
      "Analisando CYRE3.SA no mercado Brasil...\n"
     ]
    },
    {
     "name": "stderr",
     "output_type": "stream",
     "text": [
      "[*********************100%%**********************]  1 of 1 completed\n"
     ]
    },
    {
     "name": "stdout",
     "output_type": "stream",
     "text": [
      "Analisando SBFG3.SA no mercado Brasil...\n"
     ]
    },
    {
     "name": "stderr",
     "output_type": "stream",
     "text": [
      "[*********************100%%**********************]  1 of 1 completed\n"
     ]
    },
    {
     "name": "stdout",
     "output_type": "stream",
     "text": [
      "Analisando PETR3.SA no mercado Brasil...\n"
     ]
    },
    {
     "name": "stderr",
     "output_type": "stream",
     "text": [
      "[*********************100%%**********************]  1 of 1 completed\n"
     ]
    },
    {
     "name": "stdout",
     "output_type": "stream",
     "text": [
      "Analisando NEOE3.SA no mercado Brasil...\n"
     ]
    },
    {
     "name": "stderr",
     "output_type": "stream",
     "text": [
      "[*********************100%%**********************]  1 of 1 completed\n"
     ]
    },
    {
     "name": "stdout",
     "output_type": "stream",
     "text": [
      "Analisando LEVE3.SA no mercado Brasil...\n"
     ]
    },
    {
     "name": "stderr",
     "output_type": "stream",
     "text": [
      "[*********************100%%**********************]  1 of 1 completed\n"
     ]
    },
    {
     "name": "stdout",
     "output_type": "stream",
     "text": [
      "Analisando GOAU3.SA no mercado Brasil...\n"
     ]
    },
    {
     "name": "stderr",
     "output_type": "stream",
     "text": [
      "[*********************100%%**********************]  1 of 1 completed\n"
     ]
    },
    {
     "name": "stdout",
     "output_type": "stream",
     "text": [
      "Analisando GOAU4.SA no mercado Brasil...\n"
     ]
    },
    {
     "name": "stderr",
     "output_type": "stream",
     "text": [
      "[*********************100%%**********************]  1 of 1 completed\n"
     ]
    },
    {
     "name": "stdout",
     "output_type": "stream",
     "text": [
      "Analisando CSMG3.SA no mercado Brasil...\n"
     ]
    },
    {
     "name": "stderr",
     "output_type": "stream",
     "text": [
      "[*********************100%%**********************]  1 of 1 completed\n"
     ]
    },
    {
     "name": "stdout",
     "output_type": "stream",
     "text": [
      "Analisando CPFE3.SA no mercado Brasil...\n"
     ]
    },
    {
     "name": "stderr",
     "output_type": "stream",
     "text": [
      "[*********************100%%**********************]  1 of 1 completed\n"
     ]
    },
    {
     "name": "stdout",
     "output_type": "stream",
     "text": [
      "Analisando COCE5.SA no mercado Brasil...\n"
     ]
    },
    {
     "name": "stderr",
     "output_type": "stream",
     "text": [
      "[*********************100%%**********************]  1 of 1 completed\n"
     ]
    },
    {
     "name": "stdout",
     "output_type": "stream",
     "text": [
      "Analisando SOJA3.SA no mercado Brasil...\n"
     ]
    },
    {
     "name": "stderr",
     "output_type": "stream",
     "text": [
      "[*********************100%%**********************]  1 of 1 completed\n"
     ]
    },
    {
     "name": "stdout",
     "output_type": "stream",
     "text": [
      "Analisando POMO3.SA no mercado Brasil...\n"
     ]
    },
    {
     "name": "stderr",
     "output_type": "stream",
     "text": [
      "[*********************100%%**********************]  1 of 1 completed\n"
     ]
    },
    {
     "name": "stdout",
     "output_type": "stream",
     "text": [
      "Analisando ROMI3.SA no mercado Brasil...\n"
     ]
    },
    {
     "name": "stderr",
     "output_type": "stream",
     "text": [
      "[*********************100%%**********************]  1 of 1 completed\n"
     ]
    },
    {
     "name": "stdout",
     "output_type": "stream",
     "text": [
      "Analisando SBSP3.SA no mercado Brasil...\n"
     ]
    },
    {
     "name": "stderr",
     "output_type": "stream",
     "text": [
      "[*********************100%%**********************]  1 of 1 completed\n"
     ]
    },
    {
     "name": "stdout",
     "output_type": "stream",
     "text": [
      "Analisando CSUD3.SA no mercado Brasil...\n"
     ]
    },
    {
     "name": "stderr",
     "output_type": "stream",
     "text": [
      "[*********************100%%**********************]  1 of 1 completed\n"
     ]
    },
    {
     "name": "stdout",
     "output_type": "stream",
     "text": [
      "Analisando PRIO3.SA no mercado Brasil...\n"
     ]
    },
    {
     "name": "stderr",
     "output_type": "stream",
     "text": [
      "[*********************100%%**********************]  1 of 1 completed\n"
     ]
    },
    {
     "name": "stdout",
     "output_type": "stream",
     "text": [
      "Analisando TRIS3.SA no mercado Brasil...\n"
     ]
    },
    {
     "name": "stderr",
     "output_type": "stream",
     "text": [
      "[*********************100%%**********************]  1 of 1 completed\n"
     ]
    },
    {
     "name": "stdout",
     "output_type": "stream",
     "text": [
      "Analisando CMIN3.SA no mercado Brasil...\n"
     ]
    },
    {
     "name": "stderr",
     "output_type": "stream",
     "text": [
      "[*********************100%%**********************]  1 of 1 completed\n"
     ]
    },
    {
     "name": "stdout",
     "output_type": "stream",
     "text": [
      "Analisando SMTO3.SA no mercado Brasil...\n"
     ]
    },
    {
     "name": "stderr",
     "output_type": "stream",
     "text": [
      "[*********************100%%**********************]  1 of 1 completed\n"
     ]
    },
    {
     "name": "stdout",
     "output_type": "stream",
     "text": [
      "Analisando GRND3.SA no mercado Brasil...\n"
     ]
    },
    {
     "name": "stderr",
     "output_type": "stream",
     "text": [
      "[*********************100%%**********************]  1 of 1 completed\n"
     ]
    },
    {
     "name": "stdout",
     "output_type": "stream",
     "text": [
      "Analisando KEPL3.SA no mercado Brasil...\n"
     ]
    },
    {
     "name": "stderr",
     "output_type": "stream",
     "text": [
      "[*********************100%%**********************]  1 of 1 completed\n"
     ]
    },
    {
     "name": "stdout",
     "output_type": "stream",
     "text": [
      "Analisando SHUL4.SA no mercado Brasil...\n"
     ]
    },
    {
     "name": "stderr",
     "output_type": "stream",
     "text": [
      "[*********************100%%**********************]  1 of 1 completed\n"
     ]
    },
    {
     "name": "stdout",
     "output_type": "stream",
     "text": [
      "Analisando EGIE3.SA no mercado Brasil...\n"
     ]
    },
    {
     "name": "stderr",
     "output_type": "stream",
     "text": [
      "[*********************100%%**********************]  1 of 1 completed\n"
     ]
    },
    {
     "name": "stdout",
     "output_type": "stream",
     "text": [
      "Analisando SANB3.SA no mercado Brasil...\n"
     ]
    },
    {
     "name": "stderr",
     "output_type": "stream",
     "text": [
      "[*********************100%%**********************]  1 of 1 completed\n"
     ]
    },
    {
     "name": "stdout",
     "output_type": "stream",
     "text": [
      "Analisando ENGI11.SA no mercado Brasil...\n"
     ]
    },
    {
     "name": "stderr",
     "output_type": "stream",
     "text": [
      "[*********************100%%**********************]  1 of 1 completed\n"
     ]
    },
    {
     "name": "stdout",
     "output_type": "stream",
     "text": [
      "Analisando PLPL3.SA no mercado Brasil...\n"
     ]
    },
    {
     "name": "stderr",
     "output_type": "stream",
     "text": [
      "[*********************100%%**********************]  1 of 1 completed\n"
     ]
    },
    {
     "name": "stdout",
     "output_type": "stream",
     "text": [
      "Analisando ITUB3.SA no mercado Brasil...\n"
     ]
    },
    {
     "name": "stderr",
     "output_type": "stream",
     "text": [
      "[*********************100%%**********************]  1 of 1 completed\n"
     ]
    },
    {
     "name": "stdout",
     "output_type": "stream",
     "text": [
      "Analisando UGPA3.SA no mercado Brasil...\n"
     ]
    },
    {
     "name": "stderr",
     "output_type": "stream",
     "text": [
      "[*********************100%%**********************]  1 of 1 completed\n"
     ]
    },
    {
     "name": "stdout",
     "output_type": "stream",
     "text": [
      "Analisando JSLG3.SA no mercado Brasil...\n"
     ]
    },
    {
     "name": "stderr",
     "output_type": "stream",
     "text": [
      "[*********************100%%**********************]  1 of 1 completed\n"
     ]
    },
    {
     "name": "stdout",
     "output_type": "stream",
     "text": [
      "Analisando VULC3.SA no mercado Brasil...\n"
     ]
    },
    {
     "name": "stderr",
     "output_type": "stream",
     "text": [
      "[*********************100%%**********************]  1 of 1 completed\n"
     ]
    },
    {
     "name": "stdout",
     "output_type": "stream",
     "text": [
      "Analisando BBSE3.SA no mercado Brasil...\n"
     ]
    },
    {
     "name": "stderr",
     "output_type": "stream",
     "text": [
      "[*********************100%%**********************]  1 of 1 completed\n"
     ]
    },
    {
     "name": "stdout",
     "output_type": "stream",
     "text": [
      "Analisando PFRM3.SA no mercado Brasil...\n"
     ]
    },
    {
     "name": "stderr",
     "output_type": "stream",
     "text": [
      "[*********************100%%**********************]  1 of 1 completed\n"
     ]
    },
    {
     "name": "stdout",
     "output_type": "stream",
     "text": [
      "Analisando FIQE3.SA no mercado Brasil...\n"
     ]
    },
    {
     "name": "stderr",
     "output_type": "stream",
     "text": [
      "[*********************100%%**********************]  1 of 1 completed\n"
     ]
    },
    {
     "name": "stdout",
     "output_type": "stream",
     "text": [
      "Analisando ELET3.SA no mercado Brasil...\n"
     ]
    },
    {
     "name": "stderr",
     "output_type": "stream",
     "text": [
      "[*********************100%%**********************]  1 of 1 completed\n"
     ]
    },
    {
     "name": "stdout",
     "output_type": "stream",
     "text": [
      "Analisando BRBI11.SA no mercado Brasil...\n"
     ]
    },
    {
     "name": "stderr",
     "output_type": "stream",
     "text": [
      "[*********************100%%**********************]  1 of 1 completed\n"
     ]
    },
    {
     "name": "stdout",
     "output_type": "stream",
     "text": [
      "Analisando BBDC3.SA no mercado Brasil...\n"
     ]
    },
    {
     "name": "stderr",
     "output_type": "stream",
     "text": [
      "[*********************100%%**********************]  1 of 1 completed\n"
     ]
    },
    {
     "name": "stdout",
     "output_type": "stream",
     "text": [
      "Analisando GGBR3.SA no mercado Brasil...\n"
     ]
    },
    {
     "name": "stderr",
     "output_type": "stream",
     "text": [
      "[*********************100%%**********************]  1 of 1 completed\n"
     ]
    },
    {
     "name": "stdout",
     "output_type": "stream",
     "text": [
      "Analisando SANB11.SA no mercado Brasil...\n"
     ]
    },
    {
     "name": "stderr",
     "output_type": "stream",
     "text": [
      "[*********************100%%**********************]  1 of 1 completed\n"
     ]
    },
    {
     "name": "stdout",
     "output_type": "stream",
     "text": [
      "Analisando TAEE3.SA no mercado Brasil...\n"
     ]
    },
    {
     "name": "stderr",
     "output_type": "stream",
     "text": [
      "[*********************100%%**********************]  1 of 1 completed\n"
     ]
    },
    {
     "name": "stdout",
     "output_type": "stream",
     "text": [
      "Analisando TAEE4.SA no mercado Brasil...\n"
     ]
    },
    {
     "name": "stderr",
     "output_type": "stream",
     "text": [
      "[*********************100%%**********************]  1 of 1 completed\n"
     ]
    },
    {
     "name": "stdout",
     "output_type": "stream",
     "text": [
      "Analisando CSED3.SA no mercado Brasil...\n"
     ]
    },
    {
     "name": "stderr",
     "output_type": "stream",
     "text": [
      "[*********************100%%**********************]  1 of 1 completed\n"
     ]
    },
    {
     "name": "stdout",
     "output_type": "stream",
     "text": [
      "Analisando TAEE11.SA no mercado Brasil...\n"
     ]
    },
    {
     "name": "stderr",
     "output_type": "stream",
     "text": [
      "[*********************100%%**********************]  1 of 1 completed\n"
     ]
    },
    {
     "name": "stdout",
     "output_type": "stream",
     "text": [
      "Analisando HYPE3.SA no mercado Brasil...\n"
     ]
    },
    {
     "name": "stderr",
     "output_type": "stream",
     "text": [
      "[*********************100%%**********************]  1 of 1 completed\n"
     ]
    },
    {
     "name": "stdout",
     "output_type": "stream",
     "text": [
      "Analisando AGRO3.SA no mercado Brasil...\n"
     ]
    },
    {
     "name": "stderr",
     "output_type": "stream",
     "text": [
      "[*********************100%%**********************]  1 of 1 completed\n"
     ]
    },
    {
     "name": "stdout",
     "output_type": "stream",
     "text": [
      "Analisando CPLE3.SA no mercado Brasil...\n"
     ]
    },
    {
     "name": "stderr",
     "output_type": "stream",
     "text": [
      "[*********************100%%**********************]  1 of 1 completed\n"
     ]
    },
    {
     "name": "stdout",
     "output_type": "stream",
     "text": [
      "Analisando MILS3.SA no mercado Brasil...\n"
     ]
    },
    {
     "name": "stderr",
     "output_type": "stream",
     "text": [
      "[*********************100%%**********************]  1 of 1 completed\n"
     ]
    },
    {
     "name": "stdout",
     "output_type": "stream",
     "text": [
      "Analisando RECV3.SA no mercado Brasil...\n"
     ]
    },
    {
     "name": "stderr",
     "output_type": "stream",
     "text": [
      "[*********************100%%**********************]  1 of 1 completed\n"
     ]
    },
    {
     "name": "stdout",
     "output_type": "stream",
     "text": [
      "Analisando USIM3.SA no mercado Brasil...\n"
     ]
    },
    {
     "name": "stderr",
     "output_type": "stream",
     "text": [
      "[*********************100%%**********************]  1 of 1 completed\n"
     ]
    },
    {
     "name": "stdout",
     "output_type": "stream",
     "text": [
      "Analisando GGBR4.SA no mercado Brasil...\n"
     ]
    },
    {
     "name": "stderr",
     "output_type": "stream",
     "text": [
      "[*********************100%%**********************]  1 of 1 completed\n"
     ]
    },
    {
     "name": "stdout",
     "output_type": "stream",
     "text": [
      "Analisando USIM5.SA no mercado Brasil...\n"
     ]
    },
    {
     "name": "stderr",
     "output_type": "stream",
     "text": [
      "[*********************100%%**********************]  1 of 1 completed\n"
     ]
    },
    {
     "name": "stdout",
     "output_type": "stream",
     "text": [
      "Analisando BOBR4.SA no mercado Brasil...\n"
     ]
    },
    {
     "name": "stderr",
     "output_type": "stream",
     "text": [
      "[*********************100%%**********************]  1 of 1 completed\n"
     ]
    },
    {
     "name": "stdout",
     "output_type": "stream",
     "text": [
      "Analisando SANB4.SA no mercado Brasil...\n"
     ]
    },
    {
     "name": "stderr",
     "output_type": "stream",
     "text": [
      "[*********************100%%**********************]  1 of 1 completed\n"
     ]
    },
    {
     "name": "stdout",
     "output_type": "stream",
     "text": [
      "Analisando TTEN3.SA no mercado Brasil...\n"
     ]
    },
    {
     "name": "stderr",
     "output_type": "stream",
     "text": [
      "[*********************100%%**********************]  1 of 1 completed\n"
     ]
    },
    {
     "name": "stdout",
     "output_type": "stream",
     "text": [
      "Analisando TGMA3.SA no mercado Brasil...\n"
     ]
    },
    {
     "name": "stderr",
     "output_type": "stream",
     "text": [
      "[*********************100%%**********************]  1 of 1 completed\n"
     ]
    },
    {
     "name": "stdout",
     "output_type": "stream",
     "text": [
      "Analisando ITUB4.SA no mercado Brasil...\n"
     ]
    },
    {
     "name": "stderr",
     "output_type": "stream",
     "text": [
      "[*********************100%%**********************]  1 of 1 completed\n"
     ]
    },
    {
     "name": "stdout",
     "output_type": "stream",
     "text": [
      "Analisando VAMO3.SA no mercado Brasil...\n"
     ]
    },
    {
     "name": "stderr",
     "output_type": "stream",
     "text": [
      "[*********************100%%**********************]  1 of 1 completed\n"
     ]
    },
    {
     "name": "stdout",
     "output_type": "stream",
     "text": [
      "Analisando MELK3.SA no mercado Brasil...\n"
     ]
    },
    {
     "name": "stderr",
     "output_type": "stream",
     "text": [
      "[*********************100%%**********************]  1 of 1 completed\n"
     ]
    },
    {
     "name": "stdout",
     "output_type": "stream",
     "text": [
      "Analisando CSAN3.SA no mercado Brasil...\n"
     ]
    },
    {
     "name": "stderr",
     "output_type": "stream",
     "text": [
      "[*********************100%%**********************]  1 of 1 completed\n"
     ]
    },
    {
     "name": "stdout",
     "output_type": "stream",
     "text": [
      "Analisando ELET6.SA no mercado Brasil...\n"
     ]
    },
    {
     "name": "stderr",
     "output_type": "stream",
     "text": [
      "[*********************100%%**********************]  1 of 1 completed\n"
     ]
    },
    {
     "name": "stdout",
     "output_type": "stream",
     "text": [
      "Analisando CPLE6.SA no mercado Brasil...\n"
     ]
    },
    {
     "name": "stderr",
     "output_type": "stream",
     "text": [
      "[*********************100%%**********************]  1 of 1 completed\n"
     ]
    },
    {
     "name": "stdout",
     "output_type": "stream",
     "text": [
      "Analisando BBDC4.SA no mercado Brasil...\n"
     ]
    },
    {
     "name": "stderr",
     "output_type": "stream",
     "text": [
      "[*********************100%%**********************]  1 of 1 completed\n"
     ]
    },
    {
     "name": "stdout",
     "output_type": "stream",
     "text": [
      "Analisando ALUP11.SA no mercado Brasil...\n"
     ]
    },
    {
     "name": "stderr",
     "output_type": "stream",
     "text": [
      "[*********************100%%**********************]  1 of 1 completed\n"
     ]
    },
    {
     "name": "stdout",
     "output_type": "stream",
     "text": [
      "Analisando DIRR3.SA no mercado Brasil...\n"
     ]
    },
    {
     "name": "stderr",
     "output_type": "stream",
     "text": [
      "[*********************100%%**********************]  1 of 1 completed\n"
     ]
    },
    {
     "name": "stdout",
     "output_type": "stream",
     "text": [
      "Analisando INTB3.SA no mercado Brasil...\n"
     ]
    },
    {
     "name": "stderr",
     "output_type": "stream",
     "text": [
      "[*********************100%%**********************]  1 of 1 completed\n"
     ]
    },
    {
     "name": "stdout",
     "output_type": "stream",
     "text": [
      "Analisando MTRE3.SA no mercado Brasil...\n"
     ]
    },
    {
     "name": "stderr",
     "output_type": "stream",
     "text": [
      "[*********************100%%**********************]  1 of 1 completed\n"
     ]
    },
    {
     "name": "stdout",
     "output_type": "stream",
     "text": [
      "Analisando MDIA3.SA no mercado Brasil...\n"
     ]
    },
    {
     "name": "stderr",
     "output_type": "stream",
     "text": [
      "[*********************100%%**********************]  1 of 1 completed\n"
     ]
    },
    {
     "name": "stdout",
     "output_type": "stream",
     "text": [
      "Analisando POMO4.SA no mercado Brasil...\n"
     ]
    },
    {
     "name": "stderr",
     "output_type": "stream",
     "text": [
      "[*********************100%%**********************]  1 of 1 completed\n"
     ]
    },
    {
     "name": "stdout",
     "output_type": "stream",
     "text": [
      "Analisando MYPK3.SA no mercado Brasil...\n"
     ]
    },
    {
     "name": "stderr",
     "output_type": "stream",
     "text": [
      "[*********************100%%**********************]  1 of 1 completed\n"
     ]
    },
    {
     "name": "stdout",
     "output_type": "stream",
     "text": [
      "Analisando TUPY3.SA no mercado Brasil...\n"
     ]
    },
    {
     "name": "stderr",
     "output_type": "stream",
     "text": [
      "[*********************100%%**********************]  1 of 1 completed\n"
     ]
    },
    {
     "name": "stdout",
     "output_type": "stream",
     "text": [
      "Analisando PSSA3.SA no mercado Brasil...\n"
     ]
    },
    {
     "name": "stderr",
     "output_type": "stream",
     "text": [
      "[*********************100%%**********************]  1 of 1 completed\n"
     ]
    },
    {
     "name": "stdout",
     "output_type": "stream",
     "text": [
      "Analisando LJQQ3.SA no mercado Brasil...\n"
     ]
    },
    {
     "name": "stderr",
     "output_type": "stream",
     "text": [
      "[*********************100%%**********************]  1 of 1 completed\n"
     ]
    },
    {
     "name": "stdout",
     "output_type": "stream",
     "text": [
      "Analisando HCA no mercado EUA...\n"
     ]
    },
    {
     "name": "stderr",
     "output_type": "stream",
     "text": [
      "[*********************100%%**********************]  1 of 1 completed\n"
     ]
    },
    {
     "name": "stdout",
     "output_type": "stream",
     "text": [
      "Analisando CMCSA no mercado EUA...\n"
     ]
    },
    {
     "name": "stderr",
     "output_type": "stream",
     "text": [
      "[*********************100%%**********************]  1 of 1 completed\n"
     ]
    },
    {
     "name": "stdout",
     "output_type": "stream",
     "text": [
      "Analisando WYNN no mercado EUA...\n"
     ]
    },
    {
     "name": "stderr",
     "output_type": "stream",
     "text": [
      "[*********************100%%**********************]  1 of 1 completed\n"
     ]
    },
    {
     "name": "stdout",
     "output_type": "stream",
     "text": [
      "Analisando FOX no mercado EUA...\n"
     ]
    },
    {
     "name": "stderr",
     "output_type": "stream",
     "text": [
      "[*********************100%%**********************]  1 of 1 completed\n"
     ]
    },
    {
     "name": "stdout",
     "output_type": "stream",
     "text": [
      "Analisando FOXA no mercado EUA...\n"
     ]
    },
    {
     "name": "stderr",
     "output_type": "stream",
     "text": [
      "[*********************100%%**********************]  1 of 1 completed\n"
     ]
    },
    {
     "name": "stdout",
     "output_type": "stream",
     "text": [
      "Analisando CINF no mercado EUA...\n"
     ]
    },
    {
     "name": "stderr",
     "output_type": "stream",
     "text": [
      "[*********************100%%**********************]  1 of 1 completed\n"
     ]
    },
    {
     "name": "stdout",
     "output_type": "stream",
     "text": [
      "Analisando MMM no mercado EUA...\n"
     ]
    },
    {
     "name": "stderr",
     "output_type": "stream",
     "text": [
      "[*********************100%%**********************]  1 of 1 completed\n"
     ]
    },
    {
     "name": "stdout",
     "output_type": "stream",
     "text": [
      "Analisando COP no mercado EUA...\n"
     ]
    },
    {
     "name": "stderr",
     "output_type": "stream",
     "text": [
      "[*********************100%%**********************]  1 of 1 completed\n"
     ]
    },
    {
     "name": "stdout",
     "output_type": "stream",
     "text": [
      "Analisando MRO no mercado EUA...\n"
     ]
    },
    {
     "name": "stderr",
     "output_type": "stream",
     "text": [
      "[*********************100%%**********************]  1 of 1 completed\n"
     ]
    },
    {
     "name": "stdout",
     "output_type": "stream",
     "text": [
      "Analisando CF no mercado EUA...\n"
     ]
    },
    {
     "name": "stderr",
     "output_type": "stream",
     "text": [
      "[*********************100%%**********************]  1 of 1 completed\n"
     ]
    },
    {
     "name": "stdout",
     "output_type": "stream",
     "text": [
      "Analisando EOG no mercado EUA...\n"
     ]
    },
    {
     "name": "stderr",
     "output_type": "stream",
     "text": [
      "[*********************100%%**********************]  1 of 1 completed\n"
     ]
    },
    {
     "name": "stdout",
     "output_type": "stream",
     "text": [
      "Analisando TROW no mercado EUA...\n"
     ]
    },
    {
     "name": "stderr",
     "output_type": "stream",
     "text": [
      "[*********************100%%**********************]  1 of 1 completed\n"
     ]
    },
    {
     "name": "stdout",
     "output_type": "stream",
     "text": [
      "Analisando MO no mercado EUA...\n"
     ]
    },
    {
     "name": "stderr",
     "output_type": "stream",
     "text": [
      "[*********************100%%**********************]  1 of 1 completed\n"
     ]
    },
    {
     "name": "stdout",
     "output_type": "stream",
     "text": [
      "Analisando FANG no mercado EUA...\n"
     ]
    },
    {
     "name": "stderr",
     "output_type": "stream",
     "text": [
      "[*********************100%%**********************]  1 of 1 completed\n"
     ]
    },
    {
     "name": "stdout",
     "output_type": "stream",
     "text": [
      "Analisando BTC-USD no mercado Criptomoedas...\n"
     ]
    },
    {
     "name": "stderr",
     "output_type": "stream",
     "text": [
      "[*********************100%%**********************]  1 of 1 completed\n"
     ]
    },
    {
     "name": "stdout",
     "output_type": "stream",
     "text": [
      "Analisando ETH-USD no mercado Criptomoedas...\n"
     ]
    },
    {
     "name": "stderr",
     "output_type": "stream",
     "text": [
      "[*********************100%%**********************]  1 of 1 completed\n"
     ]
    },
    {
     "name": "stdout",
     "output_type": "stream",
     "text": [
      "Arquivo salvo antes da formatação: Análise dia 29-11-24\\Analise_Tickers_29-11-24.xlsx\n",
      "Arquivo salvo com formatações aplicadas: Análise dia 29-11-24\\Analise_Tickers_29-11-24.xlsx\n",
      "Processamento e análise concluídos.\n"
     ]
    }
   ],
   "source": [
    "import pandas as pd\n",
    "import numpy as np\n",
    "import matplotlib.pyplot as plt\n",
    "import yfinance as yf\n",
    "import requests\n",
    "import os\n",
    "from datetime import datetime\n",
    "from ta.trend import MACD\n",
    "from ta.momentum import RSIIndicator\n",
    "from ta.volatility import BollingerBands\n",
    "import urllib3\n",
    "import openpyxl\n",
    "from openpyxl.styles import PatternFill, Font\n",
    "import warnings\n",
    "\n",
    "## ============================== ##\n",
    "## PREMISSAS NA ESCOLHA DAS AÇÕES ##\n",
    "# 1 - Liquidez maior que 500.000\n",
    "# 2 - Ebit positivo\n",
    "# 3 - EV/EBITDA menor que 12\n",
    "# 4 - P/L menor que 10\n",
    "## ============================== ##\n",
    "\n",
    "# Ignorar avisos de segurança\n",
    "warnings.filterwarnings(\"ignore\")\n",
    "urllib3.disable_warnings(urllib3.exceptions.InsecureRequestWarning)\n",
    "\n",
    "# Configurar o proxy manualmente (se necessário)\n",
    "proxies = {\n",
    "    \"http\": \"http://ipv4.187.86.222.76.webdefence.global.blackspider.com:80\",\n",
    "    \"https\": \"http://ipv4.187.86.222.76.webdefence.global.blackspider.com:80\"\n",
    "}\n",
    "\n",
    "# Criar sessão HTTP com o proxy configurado\n",
    "session = requests.Session()\n",
    "session.proxies.update(proxies)\n",
    "session.verify = False  # Desativar a verificação SSL (não recomendado em produção)\n",
    "\n",
    "# Diretório base para salvar análises\n",
    "base_dir = f\"Análise dia {datetime.now().strftime('%d-%m-%y')}\"\n",
    "\n",
    "# Função para calcular indicadores técnicos\n",
    "def calcular_indicadores(dados):\n",
    "    \"\"\"\n",
    "    Calcula indicadores técnicos, incluindo SMA, RSI, MACD e Bandas de Bollinger, e atribui notas.\n",
    "    \"\"\"\n",
    "    # Médias Móveis Simples\n",
    "    dados['SMA20'] = dados['Close'].rolling(window=20).mean()\n",
    "    dados['SMA50'] = dados['Close'].rolling(window=50).mean()\n",
    "    dados['SMA'] = np.where(dados['SMA20'] > dados['SMA50'], 1, 0)\n",
    "\n",
    "    # RSI e sua nota\n",
    "    rsi = RSIIndicator(close=dados['Close'], window=14)\n",
    "    dados['RSI'] = rsi.rsi()\n",
    "    dados['RSI_Nota'] = pd.cut(\n",
    "        dados['RSI'],\n",
    "        bins=[-np.inf, 30, 40, 60, 70, np.inf],\n",
    "        labels=[1, 0.75, 0.5, 0.25, 0],\n",
    "        right=False\n",
    "    ).astype(float)\n",
    "\n",
    "    # MACD e sua nota\n",
    "    macd = MACD(close=dados['Close'])\n",
    "    dados['MACD'] = macd.macd()\n",
    "    dados['MACD_Sinal'] = macd.macd_signal()\n",
    "    dados['MACD_Nota'] = np.where(dados['MACD'] > dados['MACD_Sinal'], 1, 0)\n",
    "\n",
    "    # Bandas de Bollinger e sua nota\n",
    "    bollinger = BollingerBands(close=dados['Close'], window=20, window_dev=2)\n",
    "    dados['Banda_Superior'] = bollinger.bollinger_hband()\n",
    "    dados['Banda_Inferior'] = bollinger.bollinger_lband()\n",
    "    intervalo = dados['Banda_Superior'] - dados['Banda_Inferior']\n",
    "    dados['Bollinger_Posicao'] = (dados['Close'] - dados['Banda_Inferior']) / intervalo\n",
    "    dados['Bollinger_Nota'] = pd.cut(\n",
    "        dados['Bollinger_Posicao'],\n",
    "        bins=[-np.inf, 0, 0.25, 0.5, 0.75, np.inf],\n",
    "        labels=[1, 0.75, 0.5, 0.25, 0],\n",
    "        right=False\n",
    "    ).astype(float)\n",
    "\n",
    "    return dados\n",
    "\n",
    "# Função para calcular rendimentos\n",
    "def calcular_rendimentos(dados):\n",
    "    \"\"\"\n",
    "    Adiciona colunas com os rendimentos percentuais nos últimos 1, 3 e 6 meses.\n",
    "    \"\"\"\n",
    "    dados['Rendimento_1M'] = (dados['Close'] / dados['Close'].shift(21) - 1) * 100\n",
    "    dados['Rendimento_3M'] = (dados['Close'] / dados['Close'].shift(63) - 1) * 100\n",
    "    dados['Rendimento_6M'] = (dados['Close'] / dados['Close'].shift(126) - 1) * 100\n",
    "    return dados\n",
    "\n",
    "# Função para criar DataFrame de análise\n",
    "def criar_dataframe_analise(tickers, mercado):\n",
    "    \"\"\"\n",
    "    Analisa uma lista de tickers, calcula indicadores e retornos e organiza as notas em um DataFrame.\n",
    "    \"\"\"\n",
    "    resultados = []\n",
    "    for ticker in tickers:\n",
    "        print(f\"Analisando {ticker} no mercado {mercado}...\")\n",
    "        try:\n",
    "            dados = yf.download(ticker, period='1y', interval='1d', session=session)\n",
    "            if dados.empty:\n",
    "                print(f\"Nenhum dado encontrado para {ticker}. Pulando.\")\n",
    "                continue\n",
    "\n",
    "            # Calcular indicadores e rendimentos\n",
    "            dados = calcular_indicadores(dados)\n",
    "            dados = calcular_rendimentos(dados)\n",
    "\n",
    "            # Capturar os dados mais recentes\n",
    "            ultimos_dados = {\n",
    "                'Ticker': ticker,\n",
    "                'SMA': dados['SMA'].iloc[-1],\n",
    "                'RSI': dados['RSI_Nota'].iloc[-1],\n",
    "                'MACD': dados['MACD_Nota'].iloc[-1],\n",
    "                'BOLLINGER': dados['Bollinger_Nota'].iloc[-1],\n",
    "                'Rendimento_1M': dados['Rendimento_1M'].iloc[-1],\n",
    "                'Rendimento_3M': dados['Rendimento_3M'].iloc[-1],\n",
    "                'Rendimento_6M': dados['Rendimento_6M'].iloc[-1]\n",
    "            }\n",
    "            resultados.append(ultimos_dados)\n",
    "        except Exception as e:\n",
    "            print(f\"Erro ao analisar {ticker}: {e}\")\n",
    "    return pd.DataFrame(resultados)\n",
    "\n",
    "# Função para salvar DataFrames no Excel com formatação\n",
    "def salvar_todos_dataframe_excel(df_br, df_usa, df_btc):\n",
    "    \"\"\"\n",
    "    Salva os DataFrames em um arquivo Excel e aplica formatações condicionais.\n",
    "    \"\"\"\n",
    "\n",
    "    # Adicionar coluna 'SOMA' e salvar as colunas normalizadas e não normalizadas\n",
    "    for df in [df_br, df_usa, df_btc]:\n",
    "\n",
    "        # Normalizar os valores de rendimento para a escala de 0 a 1\n",
    "        for col in ['Rendimento_1M', 'Rendimento_3M', 'Rendimento_6M']:\n",
    "            min_val = df[col].min()\n",
    "            max_val = df[col].max()\n",
    "            if max_val != min_val:  # Evitar divisão por zero\n",
    "                df[f'{col}_Norm'] = (df[col] - min_val) / (max_val - min_val)\n",
    "            else:\n",
    "                df[f'{col}_Norm'] = 0  # Se todos os valores forem iguais, normalizar para 0\n",
    "\n",
    "        # Atualizar a coluna SOMA somando os valores normalizados\n",
    "        df['SOMA'] = (\n",
    "            df['SMA'] +\n",
    "            df['RSI'] +\n",
    "            df['MACD'] +\n",
    "            df['BOLLINGER'] +\n",
    "            df['Rendimento_1M_Norm'] +\n",
    "            df['Rendimento_3M_Norm'] +\n",
    "            df['Rendimento_6M_Norm']\n",
    "        )\n",
    "\n",
    "    # Caminho do arquivo Excel\n",
    "    arquivo_excel = os.path.join(base_dir, f\"Analise_Tickers_{datetime.now().strftime('%d-%m-%y')}.xlsx\")\n",
    "    os.makedirs(base_dir, exist_ok=True)\n",
    "\n",
    "    # Salvar DataFrames no Excel\n",
    "    with pd.ExcelWriter(arquivo_excel, engine='openpyxl') as writer:\n",
    "        df_br.to_excel(writer, sheet_name='Brasil', index=False)\n",
    "        df_usa.to_excel(writer, sheet_name='EUA', index=False)\n",
    "        df_btc.to_excel(writer, sheet_name='Criptomoedas', index=False)\n",
    "\n",
    "    print(f\"Arquivo salvo antes da formatação: {arquivo_excel}\")\n",
    "\n",
    "    # Aplicar formatação condicional\n",
    "    wb = openpyxl.load_workbook(arquivo_excel)\n",
    "    for sheet_name in wb.sheetnames:\n",
    "        sheet = wb[sheet_name]\n",
    "\n",
    "        # Obter índices das colunas\n",
    "        headers = {cell.value: idx + 1 for idx, cell in enumerate(sheet[1])}\n",
    "\n",
    "        # Formatação da coluna 'SOMA'\n",
    "        if 'SOMA' in headers:\n",
    "            soma_col = [sheet.cell(row=row, column=headers['SOMA']).value for row in range(2, sheet.max_row + 1)]\n",
    "            soma_col = [v for v in soma_col if isinstance(v, (int, float))]\n",
    "            if soma_col:\n",
    "                media = sum(soma_col) / len(soma_col)\n",
    "                desvio_padrao = (sum((x - media) ** 2 for x in soma_col) / len(soma_col)) ** 0.5\n",
    "                limite = media + desvio_padrao\n",
    "\n",
    "                for row in range(2, sheet.max_row + 1):\n",
    "                    cell = sheet.cell(row=row, column=headers['SOMA'])\n",
    "                    if isinstance(cell.value, (int, float)) and cell.value < limite:\n",
    "                        cell.fill = PatternFill(start_color=\"FF0000\", end_color=\"FF0000\", fill_type=\"solid\")\n",
    "                        cell.font = Font(color=\"FFFFFF\", bold=True)\n",
    "\n",
    "        # Formatação das colunas de rendimento\n",
    "        for col in ['Rendimento_1M', 'Rendimento_3M', 'Rendimento_6M']:\n",
    "            if col in headers:\n",
    "                col_idx = headers[col]\n",
    "                for row in range(2, sheet.max_row + 1):\n",
    "                    cell = sheet.cell(row=row, column=col_idx)\n",
    "                    if isinstance(cell.value, (int, float)):\n",
    "                        if cell.value > 0:\n",
    "                            cell.fill = PatternFill(start_color=\"00FF00\", end_color=\"00FF00\", fill_type=\"solid\")\n",
    "                            cell.font = Font(color=\"000000\", bold=True)\n",
    "                        elif cell.value < 0:\n",
    "                            cell.fill = PatternFill(start_color=\"FF0000\", end_color=\"FF0000\", fill_type=\"solid\")\n",
    "                            cell.font = Font(color=\"FFFFFF\", bold=True)\n",
    "\n",
    "    # Salvar o arquivo Excel com as formatações aplicadas\n",
    "    wb.save(arquivo_excel)\n",
    "    print(f\"Arquivo salvo com formatações aplicadas: {arquivo_excel}\")\n",
    "\n",
    "# Listas de tickers para análise\n",
    "lista_br = [\n",
    "    \"LOGN3.SA\", \"RAIL3.SA\", \"PTBL3.SA\", \"ALPK3.SA\", \"ANIM3.SA\", \"AURA33.SA\",\n",
    "    \"AESB3.SA\", \"SIMH3.SA\", \"ZAMP3.SA\", \"CSNA3.SA\", \"CVCB3.SA\", \"VVEO3.SA\",\n",
    "    \"QUAL3.SA\", \"LIGT3.SA\", \"COGN3.SA\", \"MOVI3.SA\", \"CBAV3.SA\", \"MATD3.SA\",\n",
    "    \"ALPA4.SA\", \"AERI3.SA\", \"DASA3.SA\", \"NTCO3.SA\", \"BRKM5.SA\", \"PCAR3.SA\",\n",
    "    \"AZUL4.SA\", \"GOLL4.SA\", \"BHIA3.SA\", \"SYNE3.SA\", \"VBBR3.SA\", \"ETER3.SA\",\n",
    "    \"POSI3.SA\", \"EUCA4.SA\", \"TPIS3.SA\", \"BRAP3.SA\", \"BRAP4.SA\", \"PINE4.SA\",\n",
    "    \"BBAS3.SA\", \"CMIG4.SA\", \"HBOR3.SA\", \"HBRE3.SA\", \"BRSR6.SA\", \"TRPL4.SA\",\n",
    "    \"JHSF3.SA\", \"SAPR3.SA\", \"BMGB4.SA\", \"SAPR4.SA\", \"WIZC3.SA\", \"ALLD3.SA\",\n",
    "    \"SAPR11.SA\", \"TECN3.SA\", \"ABCB4.SA\", \"MDNE3.SA\", \"CMIG3.SA\", \"ECOR3.SA\",\n",
    "    \"VALE3.SA\", \"DEXP3.SA\", \"LAVV3.SA\", \"VLID3.SA\", \"PETR4.SA\", \"CAML3.SA\",\n",
    "    \"BMEB4.SA\", \"CYRE3.SA\", \"SBFG3.SA\", \"PETR3.SA\", \"NEOE3.SA\", \"LEVE3.SA\",\n",
    "    \"GOAU3.SA\", \"GOAU4.SA\", \"CSMG3.SA\", \"CPFE3.SA\", \"COCE5.SA\", \"SOJA3.SA\",\n",
    "    \"POMO3.SA\", \"ROMI3.SA\", \"SBSP3.SA\", \"CSUD3.SA\", \"PRIO3.SA\", \"TRIS3.SA\",\n",
    "    \"CMIN3.SA\", \"SMTO3.SA\", \"GRND3.SA\", \"KEPL3.SA\", \"SHUL4.SA\", \"EGIE3.SA\",\n",
    "    \"SANB3.SA\", \"ENGI11.SA\", \"PLPL3.SA\", \"ITUB3.SA\", \"UGPA3.SA\", \"JSLG3.SA\",\n",
    "    \"VULC3.SA\", \"BBSE3.SA\", \"PFRM3.SA\", \"FIQE3.SA\", \"ELET3.SA\", \"BRBI11.SA\",\n",
    "    \"BBDC3.SA\", \"GGBR3.SA\", \"SANB11.SA\", \"TAEE3.SA\", \"TAEE4.SA\", \"CSED3.SA\",\n",
    "    \"TAEE11.SA\", \"HYPE3.SA\", \"AGRO3.SA\", \"CPLE3.SA\", \"MILS3.SA\", \"RECV3.SA\",\n",
    "    \"USIM3.SA\", \"GGBR4.SA\", \"USIM5.SA\", \"BOBR4.SA\", \"SANB4.SA\", \"TTEN3.SA\",\n",
    "    \"TGMA3.SA\", \"ITUB4.SA\", \"VAMO3.SA\", \"MELK3.SA\", \"CSAN3.SA\", \"ELET6.SA\",\n",
    "    \"CPLE6.SA\", \"BBDC4.SA\", \"ALUP11.SA\", \"DIRR3.SA\", \"INTB3.SA\", \"MTRE3.SA\",\n",
    "    \"MDIA3.SA\", \"POMO4.SA\", \"MYPK3.SA\", \"TUPY3.SA\", \"PSSA3.SA\", \"LJQQ3.SA\"\n",
    "]\n",
    "lista_usa = [\"HCA\", \"CMCSA\", \"WYNN\", \"FOX\", \"FOXA\", \"CINF\", \"MMM\", \"COP\", \"MRO\", \"CF\", \"EOG\", \"TROW\", \"MO\", \"FANG\"]  # Exemplo para EUA\n",
    "lista_btc = [\"BTC-USD\", \"ETH-USD\"]\n",
    "\n",
    "# Criar DataFrames para cada mercado\n",
    "df_br = criar_dataframe_analise(lista_br, 'Brasil')\n",
    "df_usa = criar_dataframe_analise(lista_usa, 'EUA')\n",
    "df_btc = criar_dataframe_analise(lista_btc, 'Criptomoedas')\n",
    "\n",
    "# Salvar resultados no Excel com as formatações aplicadas\n",
    "salvar_todos_dataframe_excel(df_br, df_usa, df_btc)\n",
    "\n",
    "print(\"Processamento e análise concluídos.\")"
   ]
  },
  {
   "cell_type": "code",
   "execution_count": 3,
   "metadata": {},
   "outputs": [
    {
     "name": "stdout",
     "output_type": "stream",
     "text": [
      "Analisando AURA33.SA no Mercado Brasileiro...\n"
     ]
    },
    {
     "name": "stderr",
     "output_type": "stream",
     "text": [
      "[*********************100%%**********************]  1 of 1 completed\n"
     ]
    },
    {
     "name": "stdout",
     "output_type": "stream",
     "text": [
      "Analisando BMEB4.SA no Mercado Brasileiro...\n"
     ]
    },
    {
     "name": "stderr",
     "output_type": "stream",
     "text": [
      "[*********************100%%**********************]  1 of 1 completed\n"
     ]
    },
    {
     "name": "stdout",
     "output_type": "stream",
     "text": [
      "Analisando BMGB4.SA no Mercado Brasileiro...\n"
     ]
    },
    {
     "name": "stderr",
     "output_type": "stream",
     "text": [
      "[*********************100%%**********************]  1 of 1 completed\n"
     ]
    },
    {
     "name": "stdout",
     "output_type": "stream",
     "text": [
      "Analisando CMIG4.SA no Mercado Brasileiro...\n"
     ]
    },
    {
     "name": "stderr",
     "output_type": "stream",
     "text": [
      "[*********************100%%**********************]  1 of 1 completed\n"
     ]
    },
    {
     "name": "stdout",
     "output_type": "stream",
     "text": [
      "Analisando CSMG3.SA no Mercado Brasileiro...\n"
     ]
    },
    {
     "name": "stderr",
     "output_type": "stream",
     "text": [
      "[*********************100%%**********************]  1 of 1 completed\n"
     ]
    },
    {
     "name": "stdout",
     "output_type": "stream",
     "text": [
      "Analisando CURY3.SA no Mercado Brasileiro...\n"
     ]
    },
    {
     "name": "stderr",
     "output_type": "stream",
     "text": [
      "[*********************100%%**********************]  1 of 1 completed\n"
     ]
    },
    {
     "name": "stdout",
     "output_type": "stream",
     "text": [
      "Analisando PLPL3.SA no Mercado Brasileiro...\n"
     ]
    },
    {
     "name": "stderr",
     "output_type": "stream",
     "text": [
      "[*********************100%%**********************]  1 of 1 completed\n"
     ]
    },
    {
     "name": "stdout",
     "output_type": "stream",
     "text": [
      "Analisando SYNE3.SA no Mercado Brasileiro...\n"
     ]
    },
    {
     "name": "stderr",
     "output_type": "stream",
     "text": [
      "[*********************100%%**********************]  1 of 1 completed\n"
     ]
    },
    {
     "name": "stdout",
     "output_type": "stream",
     "text": [
      "Analisando TECN3.SA no Mercado Brasileiro...\n"
     ]
    },
    {
     "name": "stderr",
     "output_type": "stream",
     "text": [
      "[*********************100%%**********************]  1 of 1 completed\n"
     ]
    },
    {
     "name": "stdout",
     "output_type": "stream",
     "text": [
      "Analisando TPIS3.SA no Mercado Brasileiro...\n"
     ]
    },
    {
     "name": "stderr",
     "output_type": "stream",
     "text": [
      "[*********************100%%**********************]  1 of 1 completed\n"
     ]
    },
    {
     "name": "stdout",
     "output_type": "stream",
     "text": [
      "Analisando VLID3.SA no Mercado Brasileiro...\n"
     ]
    },
    {
     "name": "stderr",
     "output_type": "stream",
     "text": [
      "[*********************100%%**********************]  1 of 1 completed\n"
     ]
    },
    {
     "name": "stdout",
     "output_type": "stream",
     "text": [
      "Analisando CMCSA no Mercado Americano...\n"
     ]
    },
    {
     "name": "stderr",
     "output_type": "stream",
     "text": [
      "[*********************100%%**********************]  1 of 1 completed\n"
     ]
    },
    {
     "name": "stdout",
     "output_type": "stream",
     "text": [
      "Analisando MRO no Mercado Americano...\n"
     ]
    },
    {
     "name": "stderr",
     "output_type": "stream",
     "text": [
      "[*********************100%%**********************]  1 of 1 completed\n"
     ]
    },
    {
     "name": "stdout",
     "output_type": "stream",
     "text": [
      "Analisando EOG no Mercado Americano...\n"
     ]
    },
    {
     "name": "stderr",
     "output_type": "stream",
     "text": [
      "[*********************100%%**********************]  1 of 1 completed\n"
     ]
    },
    {
     "name": "stdout",
     "output_type": "stream",
     "text": [
      "Analisando MO no Mercado Americano...\n"
     ]
    },
    {
     "name": "stderr",
     "output_type": "stream",
     "text": [
      "[*********************100%%**********************]  1 of 1 completed\n"
     ]
    },
    {
     "name": "stdout",
     "output_type": "stream",
     "text": [
      "Analisando FANG no Mercado Americano...\n"
     ]
    },
    {
     "name": "stderr",
     "output_type": "stream",
     "text": [
      "[*********************100%%**********************]  1 of 1 completed\n"
     ]
    },
    {
     "name": "stdout",
     "output_type": "stream",
     "text": [
      "Analisando SINA no Mercado Americano...\n"
     ]
    },
    {
     "name": "stderr",
     "output_type": "stream",
     "text": [
      "[*********************100%%**********************]  1 of 1 completed\n",
      "\n",
      "1 Failed download:\n",
      "['SINA']: YFChartError('%ticker%: No data found, symbol may be delisted')\n"
     ]
    },
    {
     "name": "stdout",
     "output_type": "stream",
     "text": [
      "Nenhum dado encontrado para SINA. Pulando.\n",
      "\n",
      "Analisando Ibovespa...\n"
     ]
    },
    {
     "name": "stderr",
     "output_type": "stream",
     "text": [
      "[*********************100%%**********************]  1 of 1 completed\n"
     ]
    },
    {
     "name": "stdout",
     "output_type": "stream",
     "text": [
      "Analisando S&P500...\n"
     ]
    },
    {
     "name": "stderr",
     "output_type": "stream",
     "text": [
      "[*********************100%%**********************]  1 of 1 completed\n"
     ]
    },
    {
     "name": "stdout",
     "output_type": "stream",
     "text": [
      "Analisando Bitcoin...\n"
     ]
    },
    {
     "name": "stderr",
     "output_type": "stream",
     "text": [
      "[*********************100%%**********************]  1 of 1 completed\n"
     ]
    }
   ],
   "source": [
    "## ANÁLISE DETALHADA\n",
    "# Função para plotar gráficos em subplots\n",
    "def plotar_e_salvar_subplots(dados, ticker, mercado, sentimento):\n",
    "    \"\"\"\n",
    "    Plota todos os gráficos de um ativo em subplots e salva em uma única imagem.\n",
    "    \"\"\"\n",
    "    # Diretório específico para o mercado\n",
    "    dir_mercado = os.path.join(base_dir, f\"Mercado {mercado}\")\n",
    "    os.makedirs(dir_mercado, exist_ok=True)\n",
    "\n",
    "    # Criar figura com subplots\n",
    "    fig, axes = plt.subplots(4, 1, figsize=(14, 24))\n",
    "    fig.subplots_adjust(hspace=0.5)\n",
    "    fig.suptitle(f\"Análise {ticker} - Sentimento atual: {sentimento}\", fontsize=16, y=0.95)\n",
    "\n",
    "    # Gráfico 1: Preço de Fechamento e Médias Móveis\n",
    "    axes[0].plot(dados['Close'], label='Preço de Fechamento', color='blue')\n",
    "    axes[0].plot(dados['SMA20'], label='SMA 20', color='red')\n",
    "    axes[0].plot(dados['SMA50'], label='SMA 50', color='green')\n",
    "    axes[0].set_title(f'Preço de Fechamento e Médias Móveis - {ticker}')\n",
    "    axes[0].legend(loc='upper left')\n",
    "    axes[0].set_xlabel('Data')\n",
    "    axes[0].set_ylabel('Preço')\n",
    "\n",
    "    # Identificar cruzamentos de Médias Móveis\n",
    "    crosses = (dados['SMA20'] > dados['SMA50']) & (dados['SMA20'].shift() <= dados['SMA50'].shift())\n",
    "    axes[0].scatter(dados.index[crosses], dados['SMA20'][crosses], label='Cruzamento de Alta (SMA20 > SMA50)', color='green', marker='^', zorder=5)\n",
    "    axes[0].text(dados.index[crosses][-1], dados['SMA20'][crosses][-1], 'ALTA', color='green', fontsize=9)\n",
    "\n",
    "    crosses_baixa = (dados['SMA20'] < dados['SMA50']) & (dados['SMA20'].shift() >= dados['SMA50'].shift())\n",
    "    axes[0].scatter(dados.index[crosses_baixa], dados['SMA20'][crosses_baixa], label='Cruzamento de Baixa (SMA20 < SMA50)', color='red', marker='v', zorder=5)\n",
    "    axes[0].text(dados.index[crosses_baixa][-1], dados['SMA20'][crosses_baixa][-1], 'BAIXA', color='red', fontsize=9)\n",
    "\n",
    "\n",
    "    axes[0].text(0.5, -0.10, \n",
    "                 \"Cruzamento de Alta: Quando o SMA20 cruza o SMA50 para cima (SMA20>SMA50)\", \n",
    "                 fontsize=10, ha='center', va='top', transform=axes[0].transAxes)\n",
    "\n",
    "    # Gráfico 2: RSI com Eixo Y Secundário\n",
    "    axes[1].plot(dados['RSI'], label='RSI', color='purple')\n",
    "    ax2_rsi = axes[1].twinx()\n",
    "    ax2_rsi.plot(dados['Close'], label='Preço de Fechamento', color='blue', alpha=0.3)\n",
    "    axes[1].axhline(70, color='red', linestyle='--', label='Sobrecomprado (70)')\n",
    "    axes[1].axhline(30, color='green', linestyle='--', label='Sobrevendido (30)')\n",
    "    axes[1].set_title(f'RSI - {ticker}')\n",
    "    axes[1].legend(loc='upper left')\n",
    "    ax2_rsi.legend(loc='upper right')\n",
    "    axes[1].text(0.5, -0.10, \n",
    "                 \"RSI: Acima de 70 -> Sobrecomprado / Abaixo de 30 -> Sobrevendido.\", \n",
    "                 fontsize=10, ha='center', va='top', transform=axes[1].transAxes)\n",
    "\n",
    "    # Gráfico 3: MACD com Eixo Y Secundário\n",
    "    axes[2].plot(dados['MACD'], label='MACD', color='blue')\n",
    "    axes[2].plot(dados['MACD_Sinal'], label='Linha de Sinal', color='red')\n",
    "    ax2_macd = axes[2].twinx()\n",
    "    ax2_macd.plot(dados['Close'], label='Preço de Fechamento', color='gray', alpha=0.3)\n",
    "    axes[2].set_title(f'MACD - {ticker}')\n",
    "    axes[2].legend(loc='upper left')\n",
    "    ax2_macd.legend(loc='upper right')\n",
    "\n",
    "    # Identificar cruzamentos de MACD\n",
    "    macd_compra = (dados['MACD'] > dados['MACD_Sinal']) & (dados['MACD'].shift() <= dados['MACD_Sinal'].shift())\n",
    "    axes[2].scatter(dados.index[macd_compra], dados['MACD'][macd_compra], label='Sinal de Compra', color='green', marker='^', zorder=5)\n",
    "    axes[2].text(dados.index[macd_compra][-1], dados['MACD'][macd_compra][-1], 'COMPRA', color='green', fontsize=9)\n",
    "\n",
    "    macd_venda = (dados['MACD'] < dados['MACD_Sinal']) & (dados['MACD'].shift() >= dados['MACD_Sinal'].shift())\n",
    "    axes[2].scatter(dados.index[macd_venda], dados['MACD'][macd_venda], label='Sinal de Venda', color='red', marker='v', zorder=5)\n",
    "    axes[2].text(dados.index[macd_venda][-1], dados['MACD'][macd_venda][-1], 'VENDA', color='red', fontsize=9)\n",
    "\n",
    "\n",
    "    axes[2].text(0.5, -0.10, \n",
    "                 \"MACD: Quando a MACD cruza a linha de sinal para cima, pode ser SINAL DE COMPRA\", \n",
    "                 fontsize=10, ha='center', va='top', transform=axes[2].transAxes)\n",
    "\n",
    "    # Gráfico 4: Bandas de Bollinger\n",
    "    axes[3].plot(dados['Close'], label='Preço de Fechamento', color='blue')\n",
    "    axes[3].plot(dados['Banda_Superior'], label='Banda Superior', color='red', linestyle='--')\n",
    "    axes[3].plot(dados['Banda_Inferior'], label='Banda Inferior', color='red', linestyle='--')\n",
    "    axes[3].fill_between(dados.index, dados['Banda_Superior'], dados['Banda_Inferior'], color='grey', alpha=0.1)\n",
    "    axes[3].set_title(f'Bandas de Bollinger - {ticker}')\n",
    "    axes[3].legend(loc='upper left')\n",
    "    axes[3].text(0.5, -0.10, \n",
    "                 \"Bandas de Bollinger: Toque na Banda Superior -> Sobrecomprado; Inferior -> Sobrevendido.\", \n",
    "                 fontsize=10, ha='center', va='top', transform=axes[3].transAxes)\n",
    "\n",
    "    # Salvar o gráfico\n",
    "    plt.tight_layout(rect=[0, 0.03, 1, 0.95])\n",
    "    plt.savefig(os.path.join(dir_mercado, f\"{ticker}.png\"), bbox_inches=\"tight\")\n",
    "    plt.close()\n",
    "\n",
    "# Listas de tickers\n",
    "tickers_brasil = ['AURA33.SA', 'BMEB4.SA', 'BMGB4.SA', 'CMIG4.SA', 'CSMG3.SA', 'CURY3.SA', 'PLPL3.SA', 'SYNE3.SA', 'TECN3.SA', 'TPIS3.SA', 'VLID3.SA']\n",
    "tickers_usa = ['CMCSA', 'MRO', 'EOG', 'MO', 'FANG', 'SINA']\n",
    "indices = {'Ibovespa': '^BVSP', 'S&P500': '^GSPC', 'Bitcoin': 'BTC-USD'}\n",
    "\n",
    "\n",
    "# Análise do Mercado Brasileiro\n",
    "for ticker in tickers_brasil:\n",
    "    print(f\"Analisando {ticker} no Mercado Brasileiro...\")\n",
    "    try:\n",
    "        dados = yf.download(ticker, period='1y', interval='1d', session=session)\n",
    "        if dados.empty:\n",
    "            print(f\"Nenhum dado encontrado para {ticker}. Pulando.\\n\")\n",
    "            continue\n",
    "        dados = calcular_indicadores(dados)\n",
    "        plotar_e_salvar_subplots(dados, ticker, mercado='Brasileiro', sentimento=\"Neutro\")\n",
    "    except Exception as e:\n",
    "        print(f\"Erro ao analisar {ticker}: {e}\\n\")\n",
    "\n",
    "# Análise do Mercado Americano\n",
    "for ticker in tickers_usa:\n",
    "    print(f\"Analisando {ticker} no Mercado Americano...\")\n",
    "    try:\n",
    "        dados = yf.download(ticker, period='1y', interval='1d', session=session)\n",
    "        if dados.empty:\n",
    "            print(f\"Nenhum dado encontrado para {ticker}. Pulando.\\n\")\n",
    "            continue\n",
    "        dados = calcular_indicadores(dados)\n",
    "        plotar_e_salvar_subplots(dados, ticker, mercado='Americano', sentimento=\"Neutro\")\n",
    "    except Exception as e:\n",
    "        print(f\"Erro ao analisar {ticker}: {e}\\n\")\n",
    "\n",
    "# Análise de Índices Gerais\n",
    "for indice, ticker in indices.items():\n",
    "    print(f\"Analisando {indice}...\")\n",
    "    try:\n",
    "        dados = yf.download(ticker, period='1y', interval='1d', session=session)\n",
    "        if dados.empty:\n",
    "            print(f\"Nenhum dado encontrado para {indice}. Pulando.\\n\")\n",
    "            continue\n",
    "        dados = calcular_indicadores(dados)\n",
    "        mercado = 'Brasileiro' if indice == 'Ibovespa' else 'Americano' if indice == 'S&P500' else 'Bitcoin'\n",
    "        plotar_e_salvar_subplots(dados, indice, mercado=mercado, sentimento=\"Alta Volatilidade\")\n",
    "    except Exception as e:\n",
    "        print(f\"Erro ao analisar {indice}: {e}\\n\")"
   ]
  }
 ],
 "metadata": {
  "kernelspec": {
   "display_name": "Python 3",
   "language": "python",
   "name": "python3"
  },
  "language_info": {
   "codemirror_mode": {
    "name": "ipython",
    "version": 3
   },
   "file_extension": ".py",
   "mimetype": "text/x-python",
   "name": "python",
   "nbconvert_exporter": "python",
   "pygments_lexer": "ipython3",
   "version": "3.11.1"
  }
 },
 "nbformat": 4,
 "nbformat_minor": 2
}
